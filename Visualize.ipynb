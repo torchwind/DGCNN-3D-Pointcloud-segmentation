{
  "nbformat": 4,
  "nbformat_minor": 0,
  "metadata": {
    "colab": {
      "provenance": []
    },
    "kernelspec": {
      "name": "python3",
      "display_name": "Python 3"
    },
    "language_info": {
      "name": "python"
    }
  },
  "cells": [
    {
      "cell_type": "code",
      "execution_count": null,
      "metadata": {
        "id": "QBidxLuZ_DcQ"
      },
      "outputs": [],
      "source": [
        "def visualize(points, label=None, name=None, seg_num=None, fname=None):\n",
        "    x, y, z = np.array(points).T\n",
        "    if label is not None:\n",
        "        label = np.array(label).T\n",
        "    layout = go.Layout(\n",
        "        scene=dict(\n",
        "            aspectmode='data'\n",
        "\n",
        "        ))\n",
        "    fig = go.Figure(data=[go.Scatter3d(x=x, y=y, z=z,\n",
        "                                       mode='markers',\n",
        "                                       marker=dict(\n",
        "                                           size=15,              \n",
        "                                           color=label,          \n",
        "                                           colorscale='rainbow',\n",
        "                                           opacity=1.0,\n",
        "                                       ))],\n",
        "                    layout_title_text=f\"[ShapeNet Dataset]   Label: {name},   Segmentation parts: {seg_num},   Total Points: {label.shape[0] if label is not None else None}\",\n",
        "                    layout=layout)\n",
        "    fig.update_traces(marker=dict(size=1.0,\n",
        "                                  line=dict(width=1.0,\n",
        "                                            color='DarkSlateGrey')),\n",
        "                      selector=dict(mode='markers'))\n",
        "    #fig.show()\n",
        "    fig.write_html(f'{fname}.html')"
      ]
    }
  ]
}