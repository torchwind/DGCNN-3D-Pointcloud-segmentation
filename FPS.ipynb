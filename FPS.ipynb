{
  "nbformat": 4,
  "nbformat_minor": 0,
  "metadata": {
    "colab": {
      "provenance": []
    },
    "kernelspec": {
      "name": "python3",
      "display_name": "Python 3"
    },
    "language_info": {
      "name": "python"
    }
  },
  "cells": [
    {
      "cell_type": "code",
      "execution_count": null,
      "metadata": {
        "id": "67MyotMP1g_-"
      },
      "outputs": [],
      "source": [
        "def fps(points, n_samples):\n",
        "    \"\"\"\n",
        "    points: [N, 3] array containing the whole point cloud\n",
        "    n_samples: samples you want in the sampled point cloud typically << N \n",
        "    \"\"\"\n",
        "    points = np.array(points)\n",
        "    \n",
        "    # Represent the points by their indices in points\n",
        "    points_left = np.arange(len(points)) # [P]\n",
        "\n",
        "    # Initialise an array for the sampled indices\n",
        "    sample_inds = np.zeros(n_samples, dtype='int') # [S]\n",
        "\n",
        "    # Initialise distances to inf\n",
        "    dists = np.ones_like(points_left) * float('inf') # [P]\n",
        "\n",
        "    # Select a point from points by its index, save it\n",
        "    selected = 0\n",
        "    sample_inds[0] = points_left[selected]\n",
        "\n",
        "    # Delete selected \n",
        "    points_left = np.delete(points_left, selected) # [P - 1]\n",
        "\n",
        "    # Iteratively select points for a maximum of n_samples\n",
        "    for i in range(1, n_samples):\n",
        "        # Find the distance to the last added point in selected\n",
        "        # and all the others\n",
        "        last_added = sample_inds[i-1]\n",
        "        \n",
        "        dist_to_last_added_point = (\n",
        "            (points[last_added] - points[points_left])**2).sum(-1) # [P - i]\n",
        "\n",
        "        # If closer, updated distances\n",
        "        dists[points_left] = np.minimum(dist_to_last_added_point, \n",
        "                                        dists[points_left]) # [P - i]\n",
        "\n",
        "        # We want to pick the one that has the largest nearest neighbour\n",
        "        # distance to the sampled points\n",
        "        selected = np.argmax(dists[points_left])\n",
        "        sample_inds[i] = points_left[selected]\n",
        "\n",
        "        # Update points_left\n",
        "        points_left = np.delete(points_left, selected)\n",
        "\n",
        "    return sample_inds #points[sample_inds],"
      ]
    }
  ]
}